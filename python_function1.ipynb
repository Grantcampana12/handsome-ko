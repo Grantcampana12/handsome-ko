{
  "nbformat": 4,
  "nbformat_minor": 0,
  "metadata": {
    "colab": {
      "name": "python_function1.ipynb",
      "provenance": [],
      "collapsed_sections": [],
      "include_colab_link": true
    },
    "kernelspec": {
      "name": "python3",
      "display_name": "Python 3"
    },
    "language_info": {
      "name": "python"
    }
  },
  "cells": [
    {
      "cell_type": "markdown",
      "metadata": {
        "id": "view-in-github",
        "colab_type": "text"
      },
      "source": [
        "<a href=\"https://colab.research.google.com/github/Grantcampana12/handsome-ko/blob/main/python_function1.ipynb\" target=\"_parent\"><img src=\"https://colab.research.google.com/assets/colab-badge.svg\" alt=\"Open In Colab\"/></a>"
      ]
    },
    {
      "cell_type": "code",
      "metadata": {
        "colab": {
          "base_uri": "https://localhost:8080/"
        },
        "id": "wKTcINoKL0yJ",
        "outputId": "f93743ba-370e-4b51-b73f-6e6bc65bf9e5"
      },
      "source": [
        "def sum(i1, i2):\n",
        "    result = 0\n",
        "    for i in range(i1, i2):\n",
        "        result += i\n",
        "    return result\n",
        "\n",
        "def main():\n",
        "    print(\"Sum from 1 to 5 is\", sum(1, 6)) \n",
        "    print(\"Sum from 20 to 40 is\", sum(20, 41))\n",
        "    print(\"Sum from 35 to 55 is\", sum(35, 56))\n",
        "\n",
        "main() # Call the main function"
      ],
      "execution_count": 1,
      "outputs": [
        {
          "output_type": "stream",
          "name": "stdout",
          "text": [
            "Sum from 1 to 5 is 15\n",
            "Sum from 20 to 40 is 630\n",
            "Sum from 35 to 55 is 945\n"
          ]
        }
      ]
    },
    {
      "cell_type": "markdown",
      "metadata": {
        "id": "stXcYjkNMuhf"
      },
      "source": [
        "sum(1, 5) ==> 1+2+..5=15"
      ]
    },
    {
      "cell_type": "markdown",
      "metadata": {
        "id": "tQEygft6NQqW"
      },
      "source": [
        "# Simple test\n",
        "please write a function sum(i1,i2,i3) that can do \n",
        "\n",
        "sum(i1,i2,i3)\n",
        "\n",
        "==> range(i1,i2,i3)\n",
        "\n",
        "def sum(i1,i2,i3):\n",
        "\n",
        "    -----your code\n",
        "\n",
        "\n",
        "def main():\n",
        "    print(\"Sum1\", sum(1, 6,1)) \n",
        "    print(\"Sum2\", sum(30, 50,4))\n",
        "    print(\"Sum3\", sum(40, 60,5))\n",
        "\n",
        "main() # Call the main function\n",
        "\n",
        "\n",
        "sum(1, 6,21) = 1+2+3+4+5\n",
        "\n",
        "sum(30, 50,4) = 30+34+38+42+46\n",
        "\n",
        "sum(40, 60,5) =40+45+50+55\n",
        "\n"
      ]
    },
    {
      "cell_type": "code",
      "metadata": {
        "colab": {
          "base_uri": "https://localhost:8080/",
          "height": 168
        },
        "id": "WblzT6sAMs_v",
        "outputId": "c4585ed2-c566-4e29-ee3e-1cac1e727c59"
      },
      "source": [
        ""
      ],
      "execution_count": null,
      "outputs": [
        {
          "output_type": "error",
          "ename": "TypeError",
          "evalue": "ignored",
          "traceback": [
            "\u001b[0;31m---------------------------------------------------------------------------\u001b[0m",
            "\u001b[0;31mTypeError\u001b[0m                                 Traceback (most recent call last)",
            "\u001b[0;32m<ipython-input-2-1ae417b5f66a>\u001b[0m in \u001b[0;36m<module>\u001b[0;34m()\u001b[0m\n\u001b[0;32m----> 1\u001b[0;31m \u001b[0msum\u001b[0m\u001b[0;34m(\u001b[0m\u001b[0;36m1\u001b[0m\u001b[0;34m,\u001b[0m \u001b[0;36m11\u001b[0m\u001b[0;34m,\u001b[0m\u001b[0;36m2\u001b[0m\u001b[0;34m)\u001b[0m\u001b[0;34m\u001b[0m\u001b[0;34m\u001b[0m\u001b[0m\n\u001b[0m",
            "\u001b[0;31mTypeError\u001b[0m: sum() takes 2 positional arguments but 3 were given"
          ]
        }
      ]
    },
    {
      "cell_type": "code",
      "metadata": {
        "id": "1SNbildVRxIG",
        "outputId": "b3679c06-3f31-4ee5-aceb-4afec8987cb2",
        "colab": {
          "base_uri": "https://localhost:8080/"
        }
      },
      "source": [
        "def swap(c,b):\n",
        "  c,b = b,c\n",
        "  return (c,b)\n",
        "\n",
        "if __name__ == '__main__':\n",
        "    c = 15\n",
        "    b = 25\n",
        "    print('c = %d,b = %d' % (c,b))\n",
        "    x,y = swap(c,b)\n",
        "    print('c = %d,b = %d' % (c,b))"
      ],
      "execution_count": 16,
      "outputs": [
        {
          "output_type": "stream",
          "name": "stdout",
          "text": [
            "c = 15,b = 25\n",
            "c = 15,b = 25\n"
          ]
        }
      ]
    },
    {
      "cell_type": "code",
      "metadata": {
        "id": "GNo-4BOPVX0n",
        "outputId": "3995560b-0bde-4b5d-ba98-180b2c999cfd",
        "colab": {
          "base_uri": "https://localhost:8080/"
        }
      },
      "source": [
        "def sort(number1, number2, number3 ): \n",
        "      if  (number1 < number2) and (number1 < number3):\n",
        "        if number2 < number3:\n",
        "            return number1, number2, number3\n",
        "      else:\n",
        "            return number1, number3, number2\n",
        "      if  (number2 < number1) and (number2 < number3):\n",
        "        if number1 < number3:\n",
        "            return number2, number1, number3\n",
        "      else:\n",
        "            return number2, number3, number1\n",
        "      if  (number3 < number1) and (number3 < number2):\n",
        "        if number1 < number2:\n",
        "            return number3, number1, number2\n",
        "      else:\n",
        "            return number3, number2, number1\n",
        "\n",
        "num1, num2, num3  = sort(24,30,35)\n",
        "\n",
        "print(\"num1 is\", num1)\n",
        "print(\"num2 is\", num2)\n",
        "print(\"num3 is\", num3)"
      ],
      "execution_count": 27,
      "outputs": [
        {
          "output_type": "stream",
          "name": "stdout",
          "text": [
            "num1 is 24\n",
            "num2 is 30\n",
            "num3 is 35\n"
          ]
        }
      ]
    },
    {
      "cell_type": "code",
      "metadata": {
        "id": "8ridCGZsgu59"
      },
      "source": [
        "#!/usr/bin/python\n",
        "#_*_ coding: UTF-8 _*_\n",
        "\n",
        "def printArea(width = 10, height= 15):\n",
        "    area =width * height\n",
        "    print(\"width\", width, \"\\theight\", height, \"\\tarea\", area)"
      ],
      "execution_count": 53,
      "outputs": []
    },
    {
      "cell_type": "code",
      "metadata": {
        "id": "XWWAHkisijBO",
        "outputId": "9cab40d8-66a6-4215-aad4-ae8273161154",
        "colab": {
          "base_uri": "https://localhost:8080/"
        }
      },
      "source": [
        "10*15"
      ],
      "execution_count": 42,
      "outputs": [
        {
          "output_type": "execute_result",
          "data": {
            "text/plain": [
              "150"
            ]
          },
          "metadata": {},
          "execution_count": 42
        }
      ]
    },
    {
      "cell_type": "code",
      "metadata": {
        "id": "bktgm5tEjqEz",
        "outputId": "d5e09907-f3f4-46b6-ae34-a2a97a9f8d45",
        "colab": {
          "base_uri": "https://localhost:8080/"
        }
      },
      "source": [
        "printArea()"
      ],
      "execution_count": 54,
      "outputs": [
        {
          "output_type": "stream",
          "name": "stdout",
          "text": [
            "width 10 \theight 15 \tarea 150\n"
          ]
        }
      ]
    },
    {
      "cell_type": "code",
      "metadata": {
        "id": "1ijLArhUkWU5",
        "outputId": "e01550ed-271a-43f9-ea7a-f7f11d7b4fab",
        "colab": {
          "base_uri": "https://localhost:8080/"
        }
      },
      "source": [
        "printArea(width = 10, height= 15)"
      ],
      "execution_count": 55,
      "outputs": [
        {
          "output_type": "stream",
          "name": "stdout",
          "text": [
            "width 10 \theight 15 \tarea 150\n"
          ]
        }
      ]
    },
    {
      "cell_type": "code",
      "metadata": {
        "id": "_Z49G9BZkjLH",
        "outputId": "c6d9d43e-f9de-4d02-aa6a-4d55d23aa60e",
        "colab": {
          "base_uri": "https://localhost:8080/"
        }
      },
      "source": [
        "printArea(height = 15, width = 10)"
      ],
      "execution_count": 56,
      "outputs": [
        {
          "output_type": "stream",
          "name": "stdout",
          "text": [
            "width 10 \theight 15 \tarea 150\n"
          ]
        }
      ]
    },
    {
      "cell_type": "code",
      "metadata": {
        "id": "LuvuuYR4ksVr",
        "outputId": "d0757731-d72c-4b1c-fc74-a6e1b0852826",
        "colab": {
          "base_uri": "https://localhost:8080/"
        }
      },
      "source": [
        "printArea(10,15)"
      ],
      "execution_count": 57,
      "outputs": [
        {
          "output_type": "stream",
          "name": "stdout",
          "text": [
            "width 10 \theight 15 \tarea 150\n"
          ]
        }
      ]
    },
    {
      "cell_type": "code",
      "metadata": {
        "id": "MOluNqHbkx7m",
        "outputId": "f615122d-566d-4d04-99fd-e1a9b2a958b1",
        "colab": {
          "base_uri": "https://localhost:8080/"
        }
      },
      "source": [
        "printArea(15,10)"
      ],
      "execution_count": 58,
      "outputs": [
        {
          "output_type": "stream",
          "name": "stdout",
          "text": [
            "width 15 \theight 10 \tarea 150\n"
          ]
        }
      ]
    },
    {
      "cell_type": "markdown",
      "metadata": {
        "id": "LpQ50nVulGJQ"
      },
      "source": [
        "  #lambda function\n"
      ]
    },
    {
      "cell_type": "code",
      "metadata": {
        "id": "0ySe7Hq8lK3M",
        "outputId": "a5b3990e-792c-42f7-f4cb-fd13ba6c7df9",
        "colab": {
          "base_uri": "https://localhost:8080/"
        }
      },
      "source": [
        "f1 = lambda x,y, z: x+10*y+15*z\n",
        "print(f1(10,15,20))"
      ],
      "execution_count": 61,
      "outputs": [
        {
          "output_type": "stream",
          "name": "stdout",
          "text": [
            "460\n"
          ]
        }
      ]
    },
    {
      "cell_type": "code",
      "metadata": {
        "id": "9IM0Uh1zlsJP",
        "outputId": "541f9b0d-9587-43fd-cd32-d3a508930d5e",
        "colab": {
          "base_uri": "https://localhost:8080/"
        }
      },
      "source": [
        "def myfunc(m):\n",
        "    return m*x\n",
        "\n",
        "my_list = [20,25,30,35,40,45]\n",
        "\n",
        "print(list(map(lambda x:myfunc(x), my_list)))"
      ],
      "execution_count": 69,
      "outputs": [
        {
          "output_type": "stream",
          "name": "stdout",
          "text": [
            "[500, 625, 750, 875, 1000, 1125]\n"
          ]
        }
      ]
    },
    {
      "cell_type": "code",
      "metadata": {
        "id": "O1ko6zSQmWwM"
      },
      "source": [
        ""
      ],
      "execution_count": 65,
      "outputs": []
    }
  ]
}