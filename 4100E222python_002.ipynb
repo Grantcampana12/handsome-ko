{
  "nbformat": 4,
  "nbformat_minor": 0,
  "metadata": {
    "colab": {
      "name": "python 2.ipynb",
      "provenance": [],
      "collapsed_sections": [],
      "include_colab_link": true
    },
    "kernelspec": {
      "name": "python3",
      "display_name": "Python 3"
    },
    "language_info": {
      "name": "python"
    }
  },
  "cells": [
    {
      "cell_type": "markdown",
      "metadata": {
        "id": "view-in-github",
        "colab_type": "text"
      },
      "source": [
        "<a href=\"https://colab.research.google.com/github/Grantcampana12/handsome-ko/blob/coco-branch/4100E222python_002.ipynb\" target=\"_parent\"><img src=\"https://colab.research.google.com/assets/colab-badge.svg\" alt=\"Open In Colab\"/></a>"
      ]
    },
    {
      "cell_type": "markdown",
      "metadata": {
        "id": "sQj-pQRy-mhL"
      },
      "source": [
        "#Numerics Data Type"
      ]
    },
    {
      "cell_type": "markdown",
      "metadata": {
        "id": "-WoEiqGhQ4MG"
      },
      "source": [
        "Date: 20211011\n",
        "\n",
        "Name: Grant Lester P, Campaña"
      ]
    },
    {
      "cell_type": "markdown",
      "metadata": {
        "id": "YevA4oTcQr0W"
      },
      "source": [
        "#Arithmetic Operators"
      ]
    },
    {
      "cell_type": "code",
      "metadata": {
        "colab": {
          "base_uri": "https://localhost:8080/"
        },
        "id": "R2bFk10x-7XG",
        "outputId": "3292218c-b705-4931-ae22-a0eb2b8edeec"
      },
      "source": [
        "a = 24 / 8\n",
        "a"
      ],
      "execution_count": 1,
      "outputs": [
        {
          "output_type": "execute_result",
          "data": {
            "text/plain": [
              "3.0"
            ]
          },
          "metadata": {},
          "execution_count": 1
        }
      ]
    },
    {
      "cell_type": "code",
      "metadata": {
        "colab": {
          "base_uri": "https://localhost:8080/"
        },
        "id": "Rpsw-oLn_DF3",
        "outputId": "81e23f51-d87e-4874-fa4c-8376051c47dc"
      },
      "source": [
        "b = 24 // 8\n",
        "b"
      ],
      "execution_count": 2,
      "outputs": [
        {
          "output_type": "execute_result",
          "data": {
            "text/plain": [
              "3"
            ]
          },
          "metadata": {},
          "execution_count": 2
        }
      ]
    },
    {
      "cell_type": "code",
      "metadata": {
        "colab": {
          "base_uri": "https://localhost:8080/"
        },
        "id": "2FOS4fia_P1x",
        "outputId": "dd5ea778-d217-4a7b-b490-66c73c1e04f7"
      },
      "source": [
        "c = 24 % 8\n",
        "c"
      ],
      "execution_count": 3,
      "outputs": [
        {
          "output_type": "execute_result",
          "data": {
            "text/plain": [
              "0"
            ]
          },
          "metadata": {},
          "execution_count": 3
        }
      ]
    },
    {
      "cell_type": "markdown",
      "metadata": {
        "id": "YFQVdsmrAMWw"
      },
      "source": [
        "#Logical operators"
      ]
    },
    {
      "cell_type": "code",
      "metadata": {
        "colab": {
          "base_uri": "https://localhost:8080/"
        },
        "id": "tgBxn9wLAQAg",
        "outputId": "10833c0d-096e-4721-9a1f-909641e8f48d"
      },
      "source": [
        "x = 8\n",
        "print(x > 4 and x < 6)"
      ],
      "execution_count": 4,
      "outputs": [
        {
          "output_type": "stream",
          "name": "stdout",
          "text": [
            "False\n"
          ]
        }
      ]
    },
    {
      "cell_type": "code",
      "metadata": {
        "colab": {
          "base_uri": "https://localhost:8080/"
        },
        "id": "fPPbyKuJAh16",
        "outputId": "758dca46-ec5f-4c4a-dd1d-3c19571958dc"
      },
      "source": [
        "x = 8\n",
        "print(x > 4 and x > 6)"
      ],
      "execution_count": 5,
      "outputs": [
        {
          "output_type": "stream",
          "name": "stdout",
          "text": [
            "True\n"
          ]
        }
      ]
    },
    {
      "cell_type": "code",
      "metadata": {
        "colab": {
          "base_uri": "https://localhost:8080/"
        },
        "id": "QZNH6qFOBLSz",
        "outputId": "e9d78608-c43e-408f-edf3-2005844b9bf6"
      },
      "source": [
        "x = 6\n",
        "print(x > 4 or x > 6)"
      ],
      "execution_count": 6,
      "outputs": [
        {
          "output_type": "stream",
          "name": "stdout",
          "text": [
            "True\n"
          ]
        }
      ]
    },
    {
      "cell_type": "markdown",
      "metadata": {
        "id": "dlzddQ9hBR2g"
      },
      "source": [
        "#Built-in functions"
      ]
    },
    {
      "cell_type": "code",
      "metadata": {
        "colab": {
          "base_uri": "https://localhost:8080/"
        },
        "id": "b23Itb2_BV8S",
        "outputId": "51bda9d1-a468-4411-cc16-47829f171470"
      },
      "source": [
        "abs(12)"
      ],
      "execution_count": 7,
      "outputs": [
        {
          "output_type": "execute_result",
          "data": {
            "text/plain": [
              "12"
            ]
          },
          "metadata": {},
          "execution_count": 7
        }
      ]
    },
    {
      "cell_type": "code",
      "metadata": {
        "colab": {
          "base_uri": "https://localhost:8080/",
          "height": 35
        },
        "id": "i00BxucTB2Ui",
        "outputId": "8340e510-ec60-4826-8ee7-432137015d51"
      },
      "source": [
        "chr(27)"
      ],
      "execution_count": 9,
      "outputs": [
        {
          "output_type": "execute_result",
          "data": {
            "application/vnd.google.colaboratory.intrinsic+json": {
              "type": "string"
            },
            "text/plain": [
              "'\\x1b'"
            ]
          },
          "metadata": {},
          "execution_count": 9
        }
      ]
    },
    {
      "cell_type": "markdown",
      "metadata": {
        "id": "xvS4pfH0Dexo"
      },
      "source": [
        "#string data type"
      ]
    },
    {
      "cell_type": "code",
      "metadata": {
        "colab": {
          "base_uri": "https://localhost:8080/",
          "height": 35
        },
        "id": "Dq_CyeEbEY9D",
        "outputId": "0ac05893-e607-49b4-a845-3a61f14b1a6d"
      },
      "source": [
        "str3 = 'I am \"handsome\"'\n",
        "str3"
      ],
      "execution_count": 10,
      "outputs": [
        {
          "output_type": "execute_result",
          "data": {
            "application/vnd.google.colaboratory.intrinsic+json": {
              "type": "string"
            },
            "text/plain": [
              "'I am \"handsome\"'"
            ]
          },
          "metadata": {},
          "execution_count": 10
        }
      ]
    },
    {
      "cell_type": "code",
      "metadata": {
        "colab": {
          "base_uri": "https://localhost:8080/"
        },
        "id": "T9vklinzFL6a",
        "outputId": "7478c7bd-b6cd-4f74-f3a8-264344f427c5"
      },
      "source": [
        "var1 = 'Hello World'\n",
        "\n",
        "print(\"var1[4]: \", var1[4])"
      ],
      "execution_count": 13,
      "outputs": [
        {
          "output_type": "stream",
          "name": "stdout",
          "text": [
            "var1[4]:  o\n"
          ]
        }
      ]
    },
    {
      "cell_type": "code",
      "metadata": {
        "colab": {
          "base_uri": "https://localhost:8080/"
        },
        "id": "JH1hgnt7GDkF",
        "outputId": "7ba9d369-af18-4ca7-c2ac-8891874c5506"
      },
      "source": [
        "b = \"Hello, MANILA!\"\n",
        "print(b[:24])"
      ],
      "execution_count": 14,
      "outputs": [
        {
          "output_type": "stream",
          "name": "stdout",
          "text": [
            "Hello, MANILA!\n"
          ]
        }
      ]
    },
    {
      "cell_type": "code",
      "metadata": {
        "colab": {
          "base_uri": "https://localhost:8080/"
        },
        "id": "saS1enEVHaoj",
        "outputId": "09bbca1f-0cc3-469b-e00a-1482afee2b4d"
      },
      "source": [
        "txt = \"hey. and welcome to grant's universe! \"\n",
        "\n",
        "x = txt.capitalize()\n",
        "\n",
        "print (x)"
      ],
      "execution_count": 21,
      "outputs": [
        {
          "output_type": "stream",
          "name": "stdout",
          "text": [
            "Hey. and welcome to grant's universe! \n"
          ]
        }
      ]
    },
    {
      "cell_type": "code",
      "metadata": {
        "colab": {
          "base_uri": "https://localhost:8080/"
        },
        "id": "3LvQlnmVHeko",
        "outputId": "1abf99d3-8fab-4b3c-b011-d20ddf671558"
      },
      "source": [
        "mylolo = (\"lala\", \"lili\", \"lulu\")\n",
        "\n",
        "x = \"#\".join(mylolo)\n",
        "\n",
        "print(x)"
      ],
      "execution_count": 18,
      "outputs": [
        {
          "output_type": "stream",
          "name": "stdout",
          "text": [
            "lala#lili#lulu\n"
          ]
        }
      ]
    },
    {
      "cell_type": "code",
      "metadata": {
        "colab": {
          "base_uri": "https://localhost:8080/"
        },
        "id": "GT_dOuNwHuVI",
        "outputId": "4e7e94dd-fedf-4f0c-832a-71aa21300483"
      },
      "source": [
        "txt = \"Braynt\"\n",
        "\n",
        "x = txt.ljust(10)\n",
        "\n",
        "print(x, \"is the best player in NBA.\")"
      ],
      "execution_count": 20,
      "outputs": [
        {
          "output_type": "stream",
          "name": "stdout",
          "text": [
            "Braynt     is the best player in NBA.\n"
          ]
        }
      ]
    },
    {
      "cell_type": "code",
      "metadata": {
        "colab": {
          "base_uri": "https://localhost:8080/"
        },
        "id": "GZpJbA8VINjo",
        "outputId": "c1610355-b4b8-467c-b396-920e391bdcbb"
      },
      "source": [
        "txt = \"     Bryant     \"\n",
        "\n",
        "x = txt.lstrip()\n",
        "\n",
        "print(\" all the player\", x, \"is a hall of famers\")"
      ],
      "execution_count": 23,
      "outputs": [
        {
          "output_type": "stream",
          "name": "stdout",
          "text": [
            " all the player Bryant      is a hall of famers\n"
          ]
        }
      ]
    },
    {
      "cell_type": "markdown",
      "metadata": {
        "id": "LyntkVD4LhvK"
      },
      "source": [
        "#list data type"
      ]
    },
    {
      "cell_type": "code",
      "metadata": {
        "colab": {
          "base_uri": "https://localhost:8080/"
        },
        "id": "djMsl79NLb6Y",
        "outputId": "b69f2edf-fd5e-4ea6-ba5d-d33d51c39f90"
      },
      "source": [
        "list1 = [24, 23, 6, 0, 3, 35]\n",
        "list1[:5]"
      ],
      "execution_count": 24,
      "outputs": [
        {
          "output_type": "execute_result",
          "data": {
            "text/plain": [
              "[24, 23, 6, 0, 3]"
            ]
          },
          "metadata": {},
          "execution_count": 24
        }
      ]
    },
    {
      "cell_type": "code",
      "metadata": {
        "colab": {
          "base_uri": "https://localhost:8080/"
        },
        "id": "St_1pp1mNEuC",
        "outputId": "e8009d73-bffb-4a69-8a15-16188cfe1542"
      },
      "source": [
        "list1 = [69, 6, 16, 26, 96, 36]\n",
        "max(list1)"
      ],
      "execution_count": 25,
      "outputs": [
        {
          "output_type": "execute_result",
          "data": {
            "text/plain": [
              "96"
            ]
          },
          "metadata": {},
          "execution_count": 25
        }
      ]
    },
    {
      "cell_type": "markdown",
      "metadata": {
        "id": "3eB5sCLMNnkY"
      },
      "source": [
        "#Dict Data"
      ]
    },
    {
      "cell_type": "code",
      "metadata": {
        "colab": {
          "base_uri": "https://localhost:8080/"
        },
        "id": "aiSJXH6qNp4i",
        "outputId": "99d20974-92db-4426-e0c2-571fadfaf8f9"
      },
      "source": [
        "dict = {'Name': 'Kuzmanian', 'Age': 24, 'Ball': 'First'}\n",
        "print (\"dict['Name']: \", dict['Name'])"
      ],
      "execution_count": 27,
      "outputs": [
        {
          "output_type": "stream",
          "name": "stdout",
          "text": [
            "dict['Name']:  Kuzmanian\n"
          ]
        }
      ]
    },
    {
      "cell_type": "code",
      "metadata": {
        "colab": {
          "base_uri": "https://localhost:8080/"
        },
        "id": "olHknumaStvt",
        "outputId": "e0f2d822-f0c7-4056-e63a-fd153afc4bff"
      },
      "source": [
        "print (\"dict ['Ball']: \", dict ['Ball'])"
      ],
      "execution_count": 28,
      "outputs": [
        {
          "output_type": "stream",
          "name": "stdout",
          "text": [
            "dict ['Ball']:  First\n"
          ]
        }
      ]
    }
  ]
}